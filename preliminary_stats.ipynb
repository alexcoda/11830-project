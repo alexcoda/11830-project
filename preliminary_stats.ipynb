{
 "cells": [
  {
   "cell_type": "code",
   "execution_count": 1,
   "metadata": {},
   "outputs": [],
   "source": [
    "%load_ext autoreload\n",
    "%autoreload 2\n",
    "import pandas as pd\n",
    "from collections import Counter\n",
    "\n",
    "# Local imports\n",
    "from utils import get_top_users, user_mask, count_top_labels\n",
    "\n",
    "pd.set_option('display.max_colwidth', -1)\n",
    "pd.set_option('display.max_rows', 20)"
   ]
  },
  {
   "cell_type": "markdown",
   "metadata": {},
   "source": [
    "# Load Zeerak NAACL tweets"
   ]
  },
  {
   "cell_type": "code",
   "execution_count": 2,
   "metadata": {},
   "outputs": [
    {
     "data": {
      "text/html": [
       "<div>\n",
       "<style>\n",
       "    .dataframe thead tr:only-child th {\n",
       "        text-align: right;\n",
       "    }\n",
       "\n",
       "    .dataframe thead th {\n",
       "        text-align: left;\n",
       "    }\n",
       "\n",
       "    .dataframe tbody tr th {\n",
       "        vertical-align: top;\n",
       "    }\n",
       "</style>\n",
       "<table border=\"1\" class=\"dataframe\">\n",
       "  <thead>\n",
       "    <tr style=\"text-align: right;\">\n",
       "      <th></th>\n",
       "      <th>text</th>\n",
       "      <th>label</th>\n",
       "    </tr>\n",
       "  </thead>\n",
       "  <tbody>\n",
       "    <tr>\n",
       "      <th>0</th>\n",
       "      <td>@ummayman90 @wood_brwood333 For example, in Medina Mohammed said, kindly cut off the heads of these 600 Jewish men and enslave their women.</td>\n",
       "      <td>racism</td>\n",
       "    </tr>\n",
       "    <tr>\n",
       "      <th>1</th>\n",
       "      <td>@ummayman90 Again, your entire concept of god corresponds to a tyrannical earthly egomaniac because you are simple and stupid. #Islam</td>\n",
       "      <td>racism</td>\n",
       "    </tr>\n",
       "    <tr>\n",
       "      <th>2</th>\n",
       "      <td>@anjemchoudary Your prophet was a rapist, murderer, pedophile, caravan robber, slave trader, bigot and sexist. God would never use the scum.</td>\n",
       "      <td>racism</td>\n",
       "    </tr>\n",
       "    <tr>\n",
       "      <th>3</th>\n",
       "      <td>RT @DilanaKurdi: Yazidi children who are taken from their parents, forcibly converted to Islam! #Sinjar #Shengal http://t.co/wwzplHld7f</td>\n",
       "      <td>racism</td>\n",
       "    </tr>\n",
       "    <tr>\n",
       "      <th>4</th>\n",
       "      <td>@anjemchoudary Accepting the idea that Allah obsesses over how we take a dump shows just how utterly insane this inbred religion is.</td>\n",
       "      <td>racism</td>\n",
       "    </tr>\n",
       "    <tr>\n",
       "      <th>5</th>\n",
       "      <td>These girls are the equivalent of the irritating Asian girls a couple years ago. Well done, 7. #MKR</td>\n",
       "      <td>racism</td>\n",
       "    </tr>\n",
       "  </tbody>\n",
       "</table>\n",
       "</div>"
      ],
      "text/plain": [
       "                                                                                                                                           text  \\\n",
       "0  @ummayman90 @wood_brwood333 For example, in Medina Mohammed said, kindly cut off the heads of these 600 Jewish men and enslave their women.    \n",
       "1  @ummayman90 Again, your entire concept of god corresponds to a tyrannical earthly egomaniac because you are simple and stupid. #Islam          \n",
       "2  @anjemchoudary Your prophet was a rapist, murderer, pedophile, caravan robber, slave trader, bigot and sexist. God would never use the scum.   \n",
       "3  RT @DilanaKurdi: Yazidi children who are taken from their parents, forcibly converted to Islam! #Sinjar #Shengal http://t.co/wwzplHld7f        \n",
       "4  @anjemchoudary Accepting the idea that Allah obsesses over how we take a dump shows just how utterly insane this inbred religion is.           \n",
       "5  These girls are the equivalent of the irritating Asian girls a couple years ago. Well done, 7. #MKR                                            \n",
       "\n",
       "    label  \n",
       "0  racism  \n",
       "1  racism  \n",
       "2  racism  \n",
       "3  racism  \n",
       "4  racism  \n",
       "5  racism  "
      ]
     },
     "execution_count": 2,
     "metadata": {},
     "output_type": "execute_result"
    }
   ],
   "source": [
    "data_path = 'data/zeerak_naacl/'\n",
    "fname = '{}zeerak_naacl_tweets.pkl'.format(data_path)\n",
    "df = pd.read_pickle(fname)\n",
    "df.loc[:5, ['text', 'label']]"
   ]
  },
  {
   "cell_type": "markdown",
   "metadata": {},
   "source": [
    "# Poking Around"
   ]
  },
  {
   "cell_type": "code",
   "execution_count": 3,
   "metadata": {},
   "outputs": [],
   "source": [
    "n_tweets = len(df)\n",
    "attrs = {'racist': 'racism',\n",
    "         'sexist': 'sexism',\n",
    "         'neither': 'none'}\n",
    "colors = {'racist': 'red',\n",
    "          'sexist': 'cyan',\n",
    "          'neither': 'grey'}"
   ]
  },
  {
   "cell_type": "code",
   "execution_count": 4,
   "metadata": {},
   "outputs": [
    {
     "name": "stdout",
     "output_type": "stream",
     "text": [
      " 1918 of 15813 tweets are racist  (12.13%)\n",
      " 3042 of 15813 tweets are sexist  (19.24%)\n",
      "10853 of 15813 tweets are neither (68.63%)\n"
     ]
    }
   ],
   "source": [
    "attr_percs = {}\n",
    "for name, attr in attrs.items():\n",
    "    n_attr = sum(df['label']==attr)\n",
    "    perc = 100. * n_attr / n_tweets\n",
    "    print(\"{0:5} of {1:5} tweets are {2:7} ({3:5.2f}%)\".format(\n",
    "        n_attr, n_tweets, name, perc))\n",
    "    attr_percs[name] = perc"
   ]
  },
  {
   "cell_type": "markdown",
   "metadata": {},
   "source": [
    "### Looking at user distributions"
   ]
  },
  {
   "cell_type": "code",
   "execution_count": 5,
   "metadata": {
    "scrolled": true
   },
   "outputs": [
    {
     "name": "stdout",
     "output_type": "stream",
     "text": [
      "72.85% of 15813 tweets are from the top 4 users\n",
      "\n",
      "User   VileIslam    has 4423 tweets (27.97% of total)\n",
      "User randileeharper has 3813 tweets (24.11% of total)\n",
      "User YesYoureSexist has 2255 tweets (14.26% of total)\n",
      "User     MT8_9      has 1029 tweets ( 6.51% of total)\n",
      "User     SKR_16     has   45 tweets ( 0.28% of total)\n"
     ]
    }
   ],
   "source": [
    "# The top 4 users account for a huge amount of the data\n",
    "topn=4\n",
    "n_top_posts = sum([v for user, v in get_top_users(df, topn)])\n",
    "perc = 100. * n_top_posts / n_tweets\n",
    "print(\"{0:.2f}% of {1} tweets are from the top {2} users\\n\".format(\n",
    "    perc, n_tweets, topn))\n",
    "\n",
    "topn=5\n",
    "topn_users = get_top_users(df, topn)\n",
    "for user, n in topn_users:\n",
    "    perc = 100. * n / n_tweets\n",
    "    print(\"User {0:^14} has {1:4} tweets ({2:5.2f}% of total)\".format(\n",
    "        user, n, perc))"
   ]
  },
  {
   "cell_type": "code",
   "execution_count": 6,
   "metadata": {},
   "outputs": [],
   "source": [
    "# Make new df with users and their number of posts\n",
    "idx = pd.Index([], name='user')\n",
    "cols = pd.Index(['total', 'racist', 'sexist', 'neither'], name='tweet_count')\n",
    "users_df = pd.DataFrame(index=idx, columns=cols)\n",
    "\n",
    "for user in set(df['user_screen_name']):\n",
    "    tmp_df = user_mask(df, user)\n",
    "    label_counts = Counter(tmp_df['label'])\n",
    "    user_details = {'total': len(tmp_df),\n",
    "                    'racist': label_counts['racism'],\n",
    "                    'sexist': label_counts['sexism'],\n",
    "                    'neither': label_counts['none']}\n",
    "    users_df.loc[user] = user_details"
   ]
  },
  {
   "cell_type": "code",
   "execution_count": 7,
   "metadata": {
    "collapsed": true
   },
   "outputs": [],
   "source": [
    "users_df.to_pickle('{}user_post_distrs.pkl'.format(data_path))"
   ]
  },
  {
   "cell_type": "code",
   "execution_count": 8,
   "metadata": {},
   "outputs": [
    {
     "name": "stdout",
     "output_type": "stream",
     "text": [
      "1904 of  1918 racist  tweets are from the top  1 users (99.27%)\n",
      "2244 of  3042 sexist  tweets are from the top  2 users (73.77%)\n",
      "7218 of 10853 neither tweets are from the top  3 users (66.51%)\n"
     ]
    }
   ],
   "source": [
    "count_top_labels(users_df, 'racist', 1)\n",
    "count_top_labels(users_df, 'sexist', 2)\n",
    "count_top_labels(users_df, 'neither', 3)"
   ]
  },
  {
   "cell_type": "code",
   "execution_count": null,
   "metadata": {
    "collapsed": true
   },
   "outputs": [],
   "source": []
  }
 ],
 "metadata": {
  "kernelspec": {
   "display_name": "Python 3",
   "language": "python",
   "name": "python3"
  },
  "language_info": {
   "codemirror_mode": {
    "name": "ipython",
    "version": 3
   },
   "file_extension": ".py",
   "mimetype": "text/x-python",
   "name": "python",
   "nbconvert_exporter": "python",
   "pygments_lexer": "ipython3",
   "version": "3.6.3"
  }
 },
 "nbformat": 4,
 "nbformat_minor": 2
}
